{
 "cells": [
  {
   "cell_type": "code",
   "execution_count": 4,
   "id": "initial_id",
   "metadata": {
    "collapsed": true,
    "ExecuteTime": {
     "end_time": "2024-05-02T20:51:34.152278Z",
     "start_time": "2024-05-02T20:51:19.924371Z"
    }
   },
   "outputs": [
    {
     "data": {
      "text/plain": "   career_path_id           career_path_name  hours_to_complete\n0               1             data scientist                 20\n1               2              data engineer                 20\n2               3               data analyst                 12\n3               4       software engineering                 25\n4               5           backend engineer                 18\n5               6          frontend engineer                 20\n6               7              iOS developer                 27\n7               8          android developer                 27\n8               9  machine learning engineer                 35\n9              10             ux/ui designer                 15",
      "text/html": "<div>\n<style scoped>\n    .dataframe tbody tr th:only-of-type {\n        vertical-align: middle;\n    }\n\n    .dataframe tbody tr th {\n        vertical-align: top;\n    }\n\n    .dataframe thead th {\n        text-align: right;\n    }\n</style>\n<table border=\"1\" class=\"dataframe\">\n  <thead>\n    <tr style=\"text-align: right;\">\n      <th></th>\n      <th>career_path_id</th>\n      <th>career_path_name</th>\n      <th>hours_to_complete</th>\n    </tr>\n  </thead>\n  <tbody>\n    <tr>\n      <th>0</th>\n      <td>1</td>\n      <td>data scientist</td>\n      <td>20</td>\n    </tr>\n    <tr>\n      <th>1</th>\n      <td>2</td>\n      <td>data engineer</td>\n      <td>20</td>\n    </tr>\n    <tr>\n      <th>2</th>\n      <td>3</td>\n      <td>data analyst</td>\n      <td>12</td>\n    </tr>\n    <tr>\n      <th>3</th>\n      <td>4</td>\n      <td>software engineering</td>\n      <td>25</td>\n    </tr>\n    <tr>\n      <th>4</th>\n      <td>5</td>\n      <td>backend engineer</td>\n      <td>18</td>\n    </tr>\n    <tr>\n      <th>5</th>\n      <td>6</td>\n      <td>frontend engineer</td>\n      <td>20</td>\n    </tr>\n    <tr>\n      <th>6</th>\n      <td>7</td>\n      <td>iOS developer</td>\n      <td>27</td>\n    </tr>\n    <tr>\n      <th>7</th>\n      <td>8</td>\n      <td>android developer</td>\n      <td>27</td>\n    </tr>\n    <tr>\n      <th>8</th>\n      <td>9</td>\n      <td>machine learning engineer</td>\n      <td>35</td>\n    </tr>\n    <tr>\n      <th>9</th>\n      <td>10</td>\n      <td>ux/ui designer</td>\n      <td>15</td>\n    </tr>\n  </tbody>\n</table>\n</div>"
     },
     "execution_count": 4,
     "metadata": {},
     "output_type": "execute_result"
    }
   ],
   "source": [
    "import sqlite3\n",
    "import pandas as pd\n",
    "\n",
    "\n",
    "def get_table_as_df(db, table):\n",
    "    conn, df = (None, None)\n",
    "    try:\n",
    "        conn = sqlite3.connect(db)\n",
    "        query = f\"SELECT * FROM {table}\"\n",
    "        df = pd.read_sql_query(query, conn)\n",
    "    except sqlite3.Error as error:\n",
    "        print(f\"Error while connecting to SQLite database {error}\", error)\n",
    "    except Exception as e:\n",
    "        print(f\"Error while reading data from {db}: {e}\")\n",
    "        return None\n",
    "    finally:\n",
    "        if conn:\n",
    "            conn.close()\n",
    "    return df\n",
    "\n"
   ]
  }
 ],
 "metadata": {
  "kernelspec": {
   "display_name": "Python 3",
   "language": "python",
   "name": "python3"
  },
  "language_info": {
   "codemirror_mode": {
    "name": "ipython",
    "version": 2
   },
   "file_extension": ".py",
   "mimetype": "text/x-python",
   "name": "python",
   "nbconvert_exporter": "python",
   "pygments_lexer": "ipython2",
   "version": "2.7.6"
  }
 },
 "nbformat": 4,
 "nbformat_minor": 5
}
