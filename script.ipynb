{
 "cells": [
  {
   "cell_type": "code",
   "execution_count": 45,
   "id": "initial_id",
   "metadata": {
    "collapsed": true,
    "ExecuteTime": {
     "end_time": "2024-05-03T03:49:09.040233Z",
     "start_time": "2024-05-03T03:49:09.006265Z"
    }
   },
   "outputs": [
    {
     "data": {
      "text/plain": "      uuid                      name         dob sex  \\\n0        1           Annabelle Avery  1943-07-03   F   \n1        2               Micah Rubio  1991-02-07   M   \n2        3                Hosea Dale  1989-12-07   M   \n3        4              Mariann Kirk  1988-07-31   F   \n4        5           Lucio Alexander  1963-08-31   M   \n...    ...                       ...         ...  ..   \n4995  4996          Quentin van Harn  1967-07-07   N   \n4996  4997  Alejandro van der Sluijs  1964-11-03   M   \n4997  4998            Brock Mckenzie  2004-11-25   M   \n4998  4999          Donnetta Dillard  1943-02-12   N   \n4999  5000               Elton Otway  1994-12-23   M   \n\n                                           contact_info job_id  \\\n0     {\"mailing_address\": \"303 N Timber Key, Irondal...    7.0   \n1     {\"mailing_address\": \"767 Crescent Fair, Shoals...    7.0   \n2     {\"mailing_address\": \"P.O. Box 41269, St. Bonav...    7.0   \n3     {\"mailing_address\": \"517 SE Wintergreen Isle, ...    6.0   \n4     {\"mailing_address\": \"18 Cinder Cliff, Doyles b...    7.0   \n...                                                 ...    ...   \n4995  {\"mailing_address\": \"591 Blue Berry, Coulee, I...    5.0   \n4996  {\"mailing_address\": \"30 Iron Divide, Pewaukee ...    4.0   \n4997  {\"mailing_address\": \"684 Rustic Rest Avenue, C...    8.0   \n4998  {\"mailing_address\": \"900 Indian Oval, Euclid, ...    3.0   \n4999  {\"mailing_address\": \"406 Zephyr Port, Oskaloos...    2.0   \n\n     num_course_taken current_career_path_id time_spent_hrs  \n0                 6.0                    1.0           4.99  \n1                 5.0                    8.0            4.4  \n2                 8.0                    8.0           6.74  \n3                 7.0                    9.0          12.31  \n4                14.0                    3.0           5.64  \n...               ...                    ...            ...  \n4995              5.0                    2.0          13.82  \n4996             13.0                    1.0           7.86  \n4997             10.0                    3.0           12.1  \n4998              6.0                    5.0          14.86  \n4999              5.0                    3.0          10.04  \n\n[5000 rows x 9 columns]",
      "text/html": "<div>\n<style scoped>\n    .dataframe tbody tr th:only-of-type {\n        vertical-align: middle;\n    }\n\n    .dataframe tbody tr th {\n        vertical-align: top;\n    }\n\n    .dataframe thead th {\n        text-align: right;\n    }\n</style>\n<table border=\"1\" class=\"dataframe\">\n  <thead>\n    <tr style=\"text-align: right;\">\n      <th></th>\n      <th>uuid</th>\n      <th>name</th>\n      <th>dob</th>\n      <th>sex</th>\n      <th>contact_info</th>\n      <th>job_id</th>\n      <th>num_course_taken</th>\n      <th>current_career_path_id</th>\n      <th>time_spent_hrs</th>\n    </tr>\n  </thead>\n  <tbody>\n    <tr>\n      <th>0</th>\n      <td>1</td>\n      <td>Annabelle Avery</td>\n      <td>1943-07-03</td>\n      <td>F</td>\n      <td>{\"mailing_address\": \"303 N Timber Key, Irondal...</td>\n      <td>7.0</td>\n      <td>6.0</td>\n      <td>1.0</td>\n      <td>4.99</td>\n    </tr>\n    <tr>\n      <th>1</th>\n      <td>2</td>\n      <td>Micah Rubio</td>\n      <td>1991-02-07</td>\n      <td>M</td>\n      <td>{\"mailing_address\": \"767 Crescent Fair, Shoals...</td>\n      <td>7.0</td>\n      <td>5.0</td>\n      <td>8.0</td>\n      <td>4.4</td>\n    </tr>\n    <tr>\n      <th>2</th>\n      <td>3</td>\n      <td>Hosea Dale</td>\n      <td>1989-12-07</td>\n      <td>M</td>\n      <td>{\"mailing_address\": \"P.O. Box 41269, St. Bonav...</td>\n      <td>7.0</td>\n      <td>8.0</td>\n      <td>8.0</td>\n      <td>6.74</td>\n    </tr>\n    <tr>\n      <th>3</th>\n      <td>4</td>\n      <td>Mariann Kirk</td>\n      <td>1988-07-31</td>\n      <td>F</td>\n      <td>{\"mailing_address\": \"517 SE Wintergreen Isle, ...</td>\n      <td>6.0</td>\n      <td>7.0</td>\n      <td>9.0</td>\n      <td>12.31</td>\n    </tr>\n    <tr>\n      <th>4</th>\n      <td>5</td>\n      <td>Lucio Alexander</td>\n      <td>1963-08-31</td>\n      <td>M</td>\n      <td>{\"mailing_address\": \"18 Cinder Cliff, Doyles b...</td>\n      <td>7.0</td>\n      <td>14.0</td>\n      <td>3.0</td>\n      <td>5.64</td>\n    </tr>\n    <tr>\n      <th>...</th>\n      <td>...</td>\n      <td>...</td>\n      <td>...</td>\n      <td>...</td>\n      <td>...</td>\n      <td>...</td>\n      <td>...</td>\n      <td>...</td>\n      <td>...</td>\n    </tr>\n    <tr>\n      <th>4995</th>\n      <td>4996</td>\n      <td>Quentin van Harn</td>\n      <td>1967-07-07</td>\n      <td>N</td>\n      <td>{\"mailing_address\": \"591 Blue Berry, Coulee, I...</td>\n      <td>5.0</td>\n      <td>5.0</td>\n      <td>2.0</td>\n      <td>13.82</td>\n    </tr>\n    <tr>\n      <th>4996</th>\n      <td>4997</td>\n      <td>Alejandro van der Sluijs</td>\n      <td>1964-11-03</td>\n      <td>M</td>\n      <td>{\"mailing_address\": \"30 Iron Divide, Pewaukee ...</td>\n      <td>4.0</td>\n      <td>13.0</td>\n      <td>1.0</td>\n      <td>7.86</td>\n    </tr>\n    <tr>\n      <th>4997</th>\n      <td>4998</td>\n      <td>Brock Mckenzie</td>\n      <td>2004-11-25</td>\n      <td>M</td>\n      <td>{\"mailing_address\": \"684 Rustic Rest Avenue, C...</td>\n      <td>8.0</td>\n      <td>10.0</td>\n      <td>3.0</td>\n      <td>12.1</td>\n    </tr>\n    <tr>\n      <th>4998</th>\n      <td>4999</td>\n      <td>Donnetta Dillard</td>\n      <td>1943-02-12</td>\n      <td>N</td>\n      <td>{\"mailing_address\": \"900 Indian Oval, Euclid, ...</td>\n      <td>3.0</td>\n      <td>6.0</td>\n      <td>5.0</td>\n      <td>14.86</td>\n    </tr>\n    <tr>\n      <th>4999</th>\n      <td>5000</td>\n      <td>Elton Otway</td>\n      <td>1994-12-23</td>\n      <td>M</td>\n      <td>{\"mailing_address\": \"406 Zephyr Port, Oskaloos...</td>\n      <td>2.0</td>\n      <td>5.0</td>\n      <td>3.0</td>\n      <td>10.04</td>\n    </tr>\n  </tbody>\n</table>\n<p>5000 rows × 9 columns</p>\n</div>"
     },
     "execution_count": 45,
     "metadata": {},
     "output_type": "execute_result"
    }
   ],
   "source": [
    "import sqlite3\n",
    "import pandas as pd\n",
    "\n",
    "\n",
    "def get_table_as_df(connection, table):\n",
    "    try:\n",
    "        query = f\"SELECT * FROM {table}\"\n",
    "        dataframe = pd.read_sql_query(query, connection)\n",
    "    except sqlite3.Error as error:\n",
    "        print(f\"Error while connecting to SQLite database {error}\", error)\n",
    "        return None\n",
    "    except Exception as e:\n",
    "        print(f\"Error while reading data from the database: {e}\")\n",
    "        return None\n",
    "    return dataframe\n",
    "\n",
    "# Getting tables as df from database\n",
    "def get_all_dataframes_from_database(database):\n",
    "    try: \n",
    "        with sqlite3.connect(database) as connection:\n",
    "            dataframes = []\n",
    "            table_names = connection.execute(\"SELECT name FROM sqlite_master WHERE type='table';\")\n",
    "            for table_name in table_names:\n",
    "                dataframes.append(get_table_as_df(connection, table_name[0]))\n",
    "            return dataframes\n",
    "    except sqlite3.Error as error:\n",
    "        print(f\"Error while connecting to SQLite database {error}\")\n",
    "        raise error\n",
    "# Putting each dataframe in separate variables \n",
    "cmc_students, cmc_courses, cmc_student_jobs = get_all_dataframes_from_database(\"dev/cademycode.db\")\n",
    "cmc_students"
   ]
  },
  {
   "cell_type": "code",
   "outputs": [],
   "source": [],
   "metadata": {
    "collapsed": false,
    "ExecuteTime": {
     "end_time": "2024-05-03T01:15:25.968208Z",
     "start_time": "2024-05-03T01:15:25.965155Z"
    }
   },
   "id": "d9a1d6f5d39516d2",
   "execution_count": 17
  }
 ],
 "metadata": {
  "kernelspec": {
   "display_name": "Python 3",
   "language": "python",
   "name": "python3"
  },
  "language_info": {
   "codemirror_mode": {
    "name": "ipython",
    "version": 2
   },
   "file_extension": ".py",
   "mimetype": "text/x-python",
   "name": "python",
   "nbconvert_exporter": "python",
   "pygments_lexer": "ipython2",
   "version": "2.7.6"
  }
 },
 "nbformat": 4,
 "nbformat_minor": 5
}
